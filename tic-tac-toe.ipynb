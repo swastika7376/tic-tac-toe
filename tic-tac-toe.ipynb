{
 "cells": [
  {
   "cell_type": "code",
   "execution_count": 1,
   "id": "def4b7a6",
   "metadata": {},
   "outputs": [],
   "source": [
    "from IPython.display import clear_output\n",
    "\n",
    "def print_board(board):\n",
    "        clear_output()\n",
    "        print(board[1]+' '+'|'+board[2]+' '+'|'+board[3])\n",
    "        print('---------')\n",
    "        print(board[4]+' '+'|'+board[5]+' '+'|'+board[6])\n",
    "        print('---------')\n",
    "        print(board[7]+' '+'|'+board[8]+' '+'|'+board[9])"
   ]
  },
  {
   "cell_type": "code",
   "execution_count": 2,
   "id": "8acdebae",
   "metadata": {},
   "outputs": [],
   "source": [
    "def user_input():\n",
    "    \n",
    "#     Output is in the format (Player 1 marker, Player 2 marker)\n",
    "\n",
    "    choice=''\n",
    "    \n",
    "    while choice != 'X' and choice != 'O':\n",
    "        choice=input(\"Player1, please enter your choice: X or O: \")\n",
    "    \n",
    "    player1=choice\n",
    "    \n",
    "    if player1=='X':\n",
    "        player2='O'\n",
    "    else:\n",
    "        player2='X'\n",
    "    return (player1,player2)"
   ]
  },
  {
   "cell_type": "code",
   "execution_count": 3,
   "id": "56c7f22a",
   "metadata": {},
   "outputs": [],
   "source": [
    "def place_marker(board,choice,position):\n",
    "    board[position]=choice"
   ]
  },
  {
   "cell_type": "code",
   "execution_count": 4,
   "id": "27ab2daa",
   "metadata": {},
   "outputs": [],
   "source": [
    "def winner_check(board,mark):\n",
    "    #ALl ROWS\n",
    "    return((board[1]==board[2]==board[3]==mark) or\n",
    "    (board[4]==board[5]==board[6]==mark) or\n",
    "    (board[7]==board[8]==board[9]==mark) or\n",
    "    \n",
    "    #ALL COLUMNS\n",
    "    (board[7] == mark and board[4] == mark and board[1] == mark) or \n",
    "    (board[8] == mark and board[5] == mark and board[2] == mark) or\n",
    "    (board[9] == mark and board[6] == mark and board[3] == mark) or\n",
    "    \n",
    "    #TWO DIAGONALS\n",
    "    (board[7] == mark and board[5] == mark and board[3] == mark) or\n",
    "    (board[9] == mark and board[5] == mark and board[1] == mark))"
   ]
  },
  {
   "cell_type": "code",
   "execution_count": 5,
   "id": "923eae0d",
   "metadata": {},
   "outputs": [],
   "source": [
    "import random\n",
    "\n",
    "def choose_first():\n",
    "    if random.randint(0,1)==0:\n",
    "        return 'Player 2'\n",
    "    else:\n",
    "        return 'Player 1'"
   ]
  },
  {
   "cell_type": "code",
   "execution_count": 6,
   "id": "53d2d7a1",
   "metadata": {},
   "outputs": [],
   "source": [
    "def space_check(board,position):\n",
    "    return board[position]==' '"
   ]
  },
  {
   "cell_type": "code",
   "execution_count": 7,
   "id": "3bd7bd67",
   "metadata": {},
   "outputs": [],
   "source": [
    "def full_board_check(board):\n",
    "    for i in range(1,10):\n",
    "        if space_check(board,i):\n",
    "            return False\n",
    "        \n",
    "    return True"
   ]
  },
  {
   "cell_type": "code",
   "execution_count": 8,
   "id": "fc797546",
   "metadata": {},
   "outputs": [],
   "source": [
    "def player_choice(board):\n",
    "    position=0\n",
    "    \n",
    "    while position not in [1,2,3,4,5,6,7,8,9] or not space_check(board,position):\n",
    "        position=int(input(\"Enter your next position: (1-9)\"))\n",
    "    \n",
    "    return position"
   ]
  },
  {
   "cell_type": "code",
   "execution_count": 9,
   "id": "c88e63fd",
   "metadata": {},
   "outputs": [],
   "source": [
    "def replay():\n",
    "    return input('Do you want to play again? Enter Yes or No: ').lower().startswith('y')"
   ]
  },
  {
   "cell_type": "code",
   "execution_count": 12,
   "id": "0815304a",
   "metadata": {},
   "outputs": [
    {
     "name": "stdout",
     "output_type": "stream",
     "text": [
      "O |X |O\n",
      "---------\n",
      "X |  |O\n",
      "---------\n",
      "  |X |O\n",
      "Congratulations Player 2! You have won the game!\n",
      "Do you want to play again? Enter Yes or No: no\n"
     ]
    }
   ],
   "source": [
    "print(\"Hey there! Welcome to Tic Tac Toe! \")\n",
    "\n",
    "while True:\n",
    "    #Reset the board\n",
    "    board=[' ',' ',' ',' ',' ',' ',' ',' ',' ',' ']\n",
    "    player1_marker,player2_marker=user_input()\n",
    "    chance=choose_first()\n",
    "    print(chance,'will go first')\n",
    "    \n",
    "    play_game = input('Are you ready to play? Enter Yes or No: ')\n",
    "    \n",
    "    if play_game.lower()[0]=='y':\n",
    "        game_on = True\n",
    "    else:\n",
    "        game_on = False\n",
    "    \n",
    "    while game_on:\n",
    "        if chance == 'Player 1':\n",
    "            #Player 1's turn\n",
    "            print_board(board)\n",
    "            position= player_choice(board)\n",
    "            place_marker(board,player1_marker,position)\n",
    "            \n",
    "            if winner_check(board,player1_marker):\n",
    "                print_board(board)\n",
    "                print('Congratulations Player 1! You have won the game!')\n",
    "                game_on=False\n",
    "            else:\n",
    "                if full_board_check(board):\n",
    "                    display(board)\n",
    "                    print('The game is a draw!')\n",
    "                else:\n",
    "                    chance='Player 2'\n",
    "                    \n",
    "        else:\n",
    "            #Player 2's turn\n",
    "            print_board(board)\n",
    "            position=player_choice(board)\n",
    "            place_marker(board,player2_marker,position)\n",
    "            \n",
    "            if winner_check(board,player2_marker):\n",
    "                print_board(board)\n",
    "                print('Congratulations Player 2! You have won the game!')\n",
    "                game_on=False\n",
    "            else:\n",
    "                if full_board_check(board):\n",
    "                    display(board)\n",
    "                    print('The game is a draw!')\n",
    "                else:\n",
    "                    chance='Player 1'\n",
    "                    \n",
    "    if not replay():\n",
    "        break"
   ]
  }
 ],
 "metadata": {
  "kernelspec": {
   "display_name": "Python 3 (ipykernel)",
   "language": "python",
   "name": "python3"
  },
  "language_info": {
   "codemirror_mode": {
    "name": "ipython",
    "version": 3
   },
   "file_extension": ".py",
   "mimetype": "text/x-python",
   "name": "python",
   "nbconvert_exporter": "python",
   "pygments_lexer": "ipython3",
   "version": "3.9.12"
  }
 },
 "nbformat": 4,
 "nbformat_minor": 5
}
